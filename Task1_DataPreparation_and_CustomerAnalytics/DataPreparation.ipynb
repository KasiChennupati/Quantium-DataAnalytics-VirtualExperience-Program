{
 "cells": [
  {
   "cell_type": "markdown",
   "metadata": {},
   "source": [
    "# The Data Preparation Task Targets are as below\n",
    "\n",
    "#### Examining the Transaction Data\n",
    "\n",
    "[x]Look for inconsistencies in the data<br>\n",
    "[x]Check for the missing data across the dataset<br>\n",
    "[x]Check for the outliers <br>\n",
    "[x]Correctly Identify the Category Items<br>\n",
    "[x]Numeric Data Acrossall tables<br>\n",
    "\n",
    "#### Examining the Customer Behaviour Data\n",
    "\n",
    "[x]Look for inconsistencies in the data<br>\n",
    "[x]Check for the missing data across the dataset<br>\n",
    "[x]Check for the outliers <br>\n",
    "[x]Correctly Identify the Category Items<br>\n",
    "[x]Numeric Data Acrossall tables<br>\n",
    "\n",
    "Once data "
   ]
  },
  {
   "cell_type": "code",
   "execution_count": 12,
   "metadata": {},
   "outputs": [],
   "source": [
    "import pandas as pd\n",
    "import datetime as dt"
   ]
  },
  {
   "cell_type": "code",
   "execution_count": 13,
   "metadata": {},
   "outputs": [],
   "source": [
    "#input data loading\n",
    "\n",
    "#dataframe customer purchase behaviour\n",
    "df_cpb = pd.read_csv(filepath_or_buffer = \"input_data/QVI_purchase_behaviour.csv\")\n",
    "#dataframe customer purchase behaviour\n",
    "df_ctd = pd.read_excel(io = \"input_data/QVI_transaction_data.xlsx\")"
   ]
  },
  {
   "cell_type": "code",
   "execution_count": 14,
   "metadata": {},
   "outputs": [],
   "source": [
    "df_ctd['DATE'] = pd.TimedeltaIndex(df_ctd['DATE'], unit='d') + dt.datetime(1900,1,1)"
   ]
  },
  {
   "cell_type": "code",
   "execution_count": 16,
   "metadata": {},
   "outputs": [
    {
     "output_type": "execute_result",
     "data": {
      "text/plain": [
       "             DATE  STORE_NBR  LYLTY_CARD_NBR  TXN_ID  PROD_NBR  \\\n",
       "0      2018-10-19          1            1000       1         5   \n",
       "1      2019-05-16          1            1307     348        66   \n",
       "2      2019-05-22          1            1343     383        61   \n",
       "3      2018-08-19          2            2373     974        69   \n",
       "4      2018-08-20          2            2426    1038       108   \n",
       "5      2019-05-21          4            4074    2982        57   \n",
       "6      2019-05-18          4            4149    3333        16   \n",
       "7      2019-05-18          4            4196    3539        24   \n",
       "8      2018-08-22          5            5026    4525        42   \n",
       "9      2018-08-20          7            7150    6900        52   \n",
       "10     2019-05-19          7            7215    7176        16   \n",
       "11     2018-08-22          8            8294    8221       114   \n",
       "12     2019-05-20          9            9208    8634        15   \n",
       "13     2018-08-19         13           13213   12447        92   \n",
       "14     2019-05-17         19           19272   16686        44   \n",
       "15     2019-05-21         20           20164   17136        54   \n",
       "16     2018-08-20         20           20418   17413        94   \n",
       "17     2018-08-16         22           22411   18646        98   \n",
       "18     2018-08-19         22           22456   18696        93   \n",
       "19     2019-05-18         23           23067   19162        56   \n",
       "20     2019-05-21         25           25105   21815         7   \n",
       "21     2018-08-18         33           33081   29949        98   \n",
       "22     2018-08-18         36           36012   32077        31   \n",
       "23     2018-08-21         36           36302   33188        32   \n",
       "24     2018-08-17         38           38142   34181       108   \n",
       "25     2019-05-17         39           39144   35506        57   \n",
       "26     2018-08-21         39           39167   35638       111   \n",
       "27     2019-05-17         41           41423   38393        46   \n",
       "28     2018-08-17         41           41486   38472        13   \n",
       "29     2019-05-22         43           43110   39342        31   \n",
       "...           ...        ...             ...     ...       ...   \n",
       "264806 2018-10-07        271          271013  268301        26   \n",
       "264807 2019-01-21        271          271013  268302         4   \n",
       "264808 2019-03-09        271          271013  268303        70   \n",
       "264809 2018-08-26        271          271051  268506        47   \n",
       "264810 2018-09-23        271          271051  268507        13   \n",
       "264811 2018-09-25        271          271051  268508        80   \n",
       "264812 2018-12-18        271          271051  268509        62   \n",
       "264813 2019-01-21        271          271051  268510        92   \n",
       "264814 2018-09-01        271          271193  269364        10   \n",
       "264815 2018-11-06        271          271193  269365        33   \n",
       "264816 2019-05-31        271          271193  269366        75   \n",
       "264817 2019-06-19        271          271193  269367        95   \n",
       "264818 2019-03-10        272          272010  269644        49   \n",
       "264819 2019-06-17        272          272053  269703        46   \n",
       "264820 2018-08-30        272          272105  269790        62   \n",
       "264821 2019-05-31        272          272105  269792        32   \n",
       "264822 2018-08-02        272          272148  269843        34   \n",
       "264823 2019-03-19        272          272156  269855        63   \n",
       "264824 2019-03-15        272          272193  269906         9   \n",
       "264825 2019-01-23        272          272194  269907        87   \n",
       "264826 2019-03-27        272          272194  269908        75   \n",
       "264827 2018-08-30        272          272197  269911       104   \n",
       "264828 2018-07-29        272          272236  269974        68   \n",
       "264829 2019-03-18        272          272236  269976        49   \n",
       "264830 2018-11-14        272          272319  270087        44   \n",
       "264831 2019-03-11        272          272319  270088        89   \n",
       "264832 2018-08-15        272          272358  270154        74   \n",
       "264833 2018-11-08        272          272379  270187        51   \n",
       "264834 2018-12-29        272          272379  270188        42   \n",
       "264835 2018-09-24        272          272380  270189        74   \n",
       "\n",
       "                                       PROD_NAME  PROD_QTY  TOT_SALES  \n",
       "0         Natural Chip        Compny SeaSalt175g         2        6.0  \n",
       "1                       CCs Nacho Cheese    175g         3        6.3  \n",
       "2         Smiths Crinkle Cut  Chips Chicken 170g         2        2.9  \n",
       "3         Smiths Chip Thinly  S/Cream&Onion 175g         5       15.0  \n",
       "4       Kettle Tortilla ChpsHny&Jlpno Chili 150g         3       13.8  \n",
       "5       Old El Paso Salsa   Dip Tomato Mild 300g         1        5.1  \n",
       "6       Smiths Crinkle Chips Salt & Vinegar 330g         1        5.7  \n",
       "7          Grain Waves         Sweet Chilli 210g         1        3.6  \n",
       "8        Doritos Corn Chip Mexican Jalapeno 150g         1        3.9  \n",
       "9          Grain Waves Sour    Cream&Chives 210G         2        7.2  \n",
       "10      Smiths Crinkle Chips Salt & Vinegar 330g         1        5.7  \n",
       "11         Kettle Sensations   Siracha Lime 150g         5       23.0  \n",
       "12                      Twisties Cheese     270g         2        9.2  \n",
       "13              WW Crinkle Cut      Chicken 175g         1        1.7  \n",
       "14                Thins Chips Light&  Tangy 175g         1        3.3  \n",
       "15                             CCs Original 175g         1        2.1  \n",
       "16                             Burger Rings 220g         4        9.2  \n",
       "17        NCC Sour Cream &    Garden Chives 175g         1        3.0  \n",
       "18       Doritos Corn Chip Southern Chicken 150g         1        3.9  \n",
       "19                      Cheezels Cheese Box 125g         1        2.1  \n",
       "20             Smiths Crinkle      Original 330g         1        5.7  \n",
       "21        NCC Sour Cream &    Garden Chives 175g         1        3.0  \n",
       "22        Infzns Crn Crnchers Tangy Gcamole 110g         1        3.8  \n",
       "23          Kettle Sea Salt     And Vinegar 175g         1        5.4  \n",
       "24      Kettle Tortilla ChpsHny&Jlpno Chili 150g         2        9.2  \n",
       "25      Old El Paso Salsa   Dip Tomato Mild 300g         1        5.1  \n",
       "26         Smiths Chip Thinly  Cut Original 175g         2        6.0  \n",
       "27                          Kettle Original 175g         1        5.4  \n",
       "28          Red Rock Deli Thai  Chilli&Lime 150g         1        2.7  \n",
       "29        Infzns Crn Crnchers Tangy Gcamole 110g         1        3.8  \n",
       "...                                          ...       ...        ...  \n",
       "264806              Pringles Sweet&Spcy BBQ 134g         2        7.4  \n",
       "264807          Dorito Corn Chp     Supreme 380g         2       13.0  \n",
       "264808   Tyrrells Crisps     Lightly Salted 165g         2        8.4  \n",
       "264809         Doritos Corn Chips  Original 170g         2        8.8  \n",
       "264810      Red Rock Deli Thai  Chilli&Lime 150g         2        5.4  \n",
       "264811    Natural ChipCo Sea  Salt & Vinegr 175g         2        6.0  \n",
       "264812          Pringles Mystery    Flavour 134g         2        7.4  \n",
       "264813          WW Crinkle Cut      Chicken 175g         2        3.4  \n",
       "264814       RRD SR Slow Rst     Pork Belly 150g         2        5.4  \n",
       "264815  Cobs Popd Swt/Chlli &Sr/Cream Chips 110g         2        7.6  \n",
       "264816            Cobs Popd Sea Salt  Chips 110g         2        7.6  \n",
       "264817  Sunbites Whlegrn    Crisps Frch/Onin 90g         2        3.4  \n",
       "264818  Infuzions SourCream&Herbs Veg Strws 110g         2        7.6  \n",
       "264819                      Kettle Original 175g         2       10.8  \n",
       "264820          Pringles Mystery    Flavour 134g         2        7.4  \n",
       "264821      Kettle Sea Salt     And Vinegar 175g         2       10.8  \n",
       "264822                  Pringles Slt Vingar 134g         2        7.4  \n",
       "264823              Kettle 135g Swt Pot Sea Salt         2        8.4  \n",
       "264824   Kettle Tortilla ChpsBtroot&Ricotta 150g         1        4.6  \n",
       "264825   Infuzions BBQ Rib   Prawn Crackers 110g         2        7.6  \n",
       "264826            Cobs Popd Sea Salt  Chips 110g         2        7.6  \n",
       "264827  Infuzions Thai SweetChili PotatoMix 110g         2        7.6  \n",
       "264828       Pringles Chicken    Salt Crips 134g         2        7.4  \n",
       "264829  Infuzions SourCream&Herbs Veg Strws 110g         2        7.6  \n",
       "264830            Thins Chips Light&  Tangy 175g         2        6.6  \n",
       "264831   Kettle Sweet Chilli And Sour Cream 175g         2       10.8  \n",
       "264832             Tostitos Splash Of  Lime 175g         1        4.4  \n",
       "264833                  Doritos Mexicana    170g         2        8.8  \n",
       "264834   Doritos Corn Chip Mexican Jalapeno 150g         2        7.8  \n",
       "264835             Tostitos Splash Of  Lime 175g         2        8.8  \n",
       "\n",
       "[264836 rows x 8 columns]"
      ],
      "text/html": "<div>\n<style scoped>\n    .dataframe tbody tr th:only-of-type {\n        vertical-align: middle;\n    }\n\n    .dataframe tbody tr th {\n        vertical-align: top;\n    }\n\n    .dataframe thead th {\n        text-align: right;\n    }\n</style>\n<table border=\"1\" class=\"dataframe\">\n  <thead>\n    <tr style=\"text-align: right;\">\n      <th></th>\n      <th>DATE</th>\n      <th>STORE_NBR</th>\n      <th>LYLTY_CARD_NBR</th>\n      <th>TXN_ID</th>\n      <th>PROD_NBR</th>\n      <th>PROD_NAME</th>\n      <th>PROD_QTY</th>\n      <th>TOT_SALES</th>\n    </tr>\n  </thead>\n  <tbody>\n    <tr>\n      <th>0</th>\n      <td>2018-10-19</td>\n      <td>1</td>\n      <td>1000</td>\n      <td>1</td>\n      <td>5</td>\n      <td>Natural Chip        Compny SeaSalt175g</td>\n      <td>2</td>\n      <td>6.0</td>\n    </tr>\n    <tr>\n      <th>1</th>\n      <td>2019-05-16</td>\n      <td>1</td>\n      <td>1307</td>\n      <td>348</td>\n      <td>66</td>\n      <td>CCs Nacho Cheese    175g</td>\n      <td>3</td>\n      <td>6.3</td>\n    </tr>\n    <tr>\n      <th>2</th>\n      <td>2019-05-22</td>\n      <td>1</td>\n      <td>1343</td>\n      <td>383</td>\n      <td>61</td>\n      <td>Smiths Crinkle Cut  Chips Chicken 170g</td>\n      <td>2</td>\n      <td>2.9</td>\n    </tr>\n    <tr>\n      <th>3</th>\n      <td>2018-08-19</td>\n      <td>2</td>\n      <td>2373</td>\n      <td>974</td>\n      <td>69</td>\n      <td>Smiths Chip Thinly  S/Cream&amp;Onion 175g</td>\n      <td>5</td>\n      <td>15.0</td>\n    </tr>\n    <tr>\n      <th>4</th>\n      <td>2018-08-20</td>\n      <td>2</td>\n      <td>2426</td>\n      <td>1038</td>\n      <td>108</td>\n      <td>Kettle Tortilla ChpsHny&amp;Jlpno Chili 150g</td>\n      <td>3</td>\n      <td>13.8</td>\n    </tr>\n    <tr>\n      <th>5</th>\n      <td>2019-05-21</td>\n      <td>4</td>\n      <td>4074</td>\n      <td>2982</td>\n      <td>57</td>\n      <td>Old El Paso Salsa   Dip Tomato Mild 300g</td>\n      <td>1</td>\n      <td>5.1</td>\n    </tr>\n    <tr>\n      <th>6</th>\n      <td>2019-05-18</td>\n      <td>4</td>\n      <td>4149</td>\n      <td>3333</td>\n      <td>16</td>\n      <td>Smiths Crinkle Chips Salt &amp; Vinegar 330g</td>\n      <td>1</td>\n      <td>5.7</td>\n    </tr>\n    <tr>\n      <th>7</th>\n      <td>2019-05-18</td>\n      <td>4</td>\n      <td>4196</td>\n      <td>3539</td>\n      <td>24</td>\n      <td>Grain Waves         Sweet Chilli 210g</td>\n      <td>1</td>\n      <td>3.6</td>\n    </tr>\n    <tr>\n      <th>8</th>\n      <td>2018-08-22</td>\n      <td>5</td>\n      <td>5026</td>\n      <td>4525</td>\n      <td>42</td>\n      <td>Doritos Corn Chip Mexican Jalapeno 150g</td>\n      <td>1</td>\n      <td>3.9</td>\n    </tr>\n    <tr>\n      <th>9</th>\n      <td>2018-08-20</td>\n      <td>7</td>\n      <td>7150</td>\n      <td>6900</td>\n      <td>52</td>\n      <td>Grain Waves Sour    Cream&amp;Chives 210G</td>\n      <td>2</td>\n      <td>7.2</td>\n    </tr>\n    <tr>\n      <th>10</th>\n      <td>2019-05-19</td>\n      <td>7</td>\n      <td>7215</td>\n      <td>7176</td>\n      <td>16</td>\n      <td>Smiths Crinkle Chips Salt &amp; Vinegar 330g</td>\n      <td>1</td>\n      <td>5.7</td>\n    </tr>\n    <tr>\n      <th>11</th>\n      <td>2018-08-22</td>\n      <td>8</td>\n      <td>8294</td>\n      <td>8221</td>\n      <td>114</td>\n      <td>Kettle Sensations   Siracha Lime 150g</td>\n      <td>5</td>\n      <td>23.0</td>\n    </tr>\n    <tr>\n      <th>12</th>\n      <td>2019-05-20</td>\n      <td>9</td>\n      <td>9208</td>\n      <td>8634</td>\n      <td>15</td>\n      <td>Twisties Cheese     270g</td>\n      <td>2</td>\n      <td>9.2</td>\n    </tr>\n    <tr>\n      <th>13</th>\n      <td>2018-08-19</td>\n      <td>13</td>\n      <td>13213</td>\n      <td>12447</td>\n      <td>92</td>\n      <td>WW Crinkle Cut      Chicken 175g</td>\n      <td>1</td>\n      <td>1.7</td>\n    </tr>\n    <tr>\n      <th>14</th>\n      <td>2019-05-17</td>\n      <td>19</td>\n      <td>19272</td>\n      <td>16686</td>\n      <td>44</td>\n      <td>Thins Chips Light&amp;  Tangy 175g</td>\n      <td>1</td>\n      <td>3.3</td>\n    </tr>\n    <tr>\n      <th>15</th>\n      <td>2019-05-21</td>\n      <td>20</td>\n      <td>20164</td>\n      <td>17136</td>\n      <td>54</td>\n      <td>CCs Original 175g</td>\n      <td>1</td>\n      <td>2.1</td>\n    </tr>\n    <tr>\n      <th>16</th>\n      <td>2018-08-20</td>\n      <td>20</td>\n      <td>20418</td>\n      <td>17413</td>\n      <td>94</td>\n      <td>Burger Rings 220g</td>\n      <td>4</td>\n      <td>9.2</td>\n    </tr>\n    <tr>\n      <th>17</th>\n      <td>2018-08-16</td>\n      <td>22</td>\n      <td>22411</td>\n      <td>18646</td>\n      <td>98</td>\n      <td>NCC Sour Cream &amp;    Garden Chives 175g</td>\n      <td>1</td>\n      <td>3.0</td>\n    </tr>\n    <tr>\n      <th>18</th>\n      <td>2018-08-19</td>\n      <td>22</td>\n      <td>22456</td>\n      <td>18696</td>\n      <td>93</td>\n      <td>Doritos Corn Chip Southern Chicken 150g</td>\n      <td>1</td>\n      <td>3.9</td>\n    </tr>\n    <tr>\n      <th>19</th>\n      <td>2019-05-18</td>\n      <td>23</td>\n      <td>23067</td>\n      <td>19162</td>\n      <td>56</td>\n      <td>Cheezels Cheese Box 125g</td>\n      <td>1</td>\n      <td>2.1</td>\n    </tr>\n    <tr>\n      <th>20</th>\n      <td>2019-05-21</td>\n      <td>25</td>\n      <td>25105</td>\n      <td>21815</td>\n      <td>7</td>\n      <td>Smiths Crinkle      Original 330g</td>\n      <td>1</td>\n      <td>5.7</td>\n    </tr>\n    <tr>\n      <th>21</th>\n      <td>2018-08-18</td>\n      <td>33</td>\n      <td>33081</td>\n      <td>29949</td>\n      <td>98</td>\n      <td>NCC Sour Cream &amp;    Garden Chives 175g</td>\n      <td>1</td>\n      <td>3.0</td>\n    </tr>\n    <tr>\n      <th>22</th>\n      <td>2018-08-18</td>\n      <td>36</td>\n      <td>36012</td>\n      <td>32077</td>\n      <td>31</td>\n      <td>Infzns Crn Crnchers Tangy Gcamole 110g</td>\n      <td>1</td>\n      <td>3.8</td>\n    </tr>\n    <tr>\n      <th>23</th>\n      <td>2018-08-21</td>\n      <td>36</td>\n      <td>36302</td>\n      <td>33188</td>\n      <td>32</td>\n      <td>Kettle Sea Salt     And Vinegar 175g</td>\n      <td>1</td>\n      <td>5.4</td>\n    </tr>\n    <tr>\n      <th>24</th>\n      <td>2018-08-17</td>\n      <td>38</td>\n      <td>38142</td>\n      <td>34181</td>\n      <td>108</td>\n      <td>Kettle Tortilla ChpsHny&amp;Jlpno Chili 150g</td>\n      <td>2</td>\n      <td>9.2</td>\n    </tr>\n    <tr>\n      <th>25</th>\n      <td>2019-05-17</td>\n      <td>39</td>\n      <td>39144</td>\n      <td>35506</td>\n      <td>57</td>\n      <td>Old El Paso Salsa   Dip Tomato Mild 300g</td>\n      <td>1</td>\n      <td>5.1</td>\n    </tr>\n    <tr>\n      <th>26</th>\n      <td>2018-08-21</td>\n      <td>39</td>\n      <td>39167</td>\n      <td>35638</td>\n      <td>111</td>\n      <td>Smiths Chip Thinly  Cut Original 175g</td>\n      <td>2</td>\n      <td>6.0</td>\n    </tr>\n    <tr>\n      <th>27</th>\n      <td>2019-05-17</td>\n      <td>41</td>\n      <td>41423</td>\n      <td>38393</td>\n      <td>46</td>\n      <td>Kettle Original 175g</td>\n      <td>1</td>\n      <td>5.4</td>\n    </tr>\n    <tr>\n      <th>28</th>\n      <td>2018-08-17</td>\n      <td>41</td>\n      <td>41486</td>\n      <td>38472</td>\n      <td>13</td>\n      <td>Red Rock Deli Thai  Chilli&amp;Lime 150g</td>\n      <td>1</td>\n      <td>2.7</td>\n    </tr>\n    <tr>\n      <th>29</th>\n      <td>2019-05-22</td>\n      <td>43</td>\n      <td>43110</td>\n      <td>39342</td>\n      <td>31</td>\n      <td>Infzns Crn Crnchers Tangy Gcamole 110g</td>\n      <td>1</td>\n      <td>3.8</td>\n    </tr>\n    <tr>\n      <th>...</th>\n      <td>...</td>\n      <td>...</td>\n      <td>...</td>\n      <td>...</td>\n      <td>...</td>\n      <td>...</td>\n      <td>...</td>\n      <td>...</td>\n    </tr>\n    <tr>\n      <th>264806</th>\n      <td>2018-10-07</td>\n      <td>271</td>\n      <td>271013</td>\n      <td>268301</td>\n      <td>26</td>\n      <td>Pringles Sweet&amp;Spcy BBQ 134g</td>\n      <td>2</td>\n      <td>7.4</td>\n    </tr>\n    <tr>\n      <th>264807</th>\n      <td>2019-01-21</td>\n      <td>271</td>\n      <td>271013</td>\n      <td>268302</td>\n      <td>4</td>\n      <td>Dorito Corn Chp     Supreme 380g</td>\n      <td>2</td>\n      <td>13.0</td>\n    </tr>\n    <tr>\n      <th>264808</th>\n      <td>2019-03-09</td>\n      <td>271</td>\n      <td>271013</td>\n      <td>268303</td>\n      <td>70</td>\n      <td>Tyrrells Crisps     Lightly Salted 165g</td>\n      <td>2</td>\n      <td>8.4</td>\n    </tr>\n    <tr>\n      <th>264809</th>\n      <td>2018-08-26</td>\n      <td>271</td>\n      <td>271051</td>\n      <td>268506</td>\n      <td>47</td>\n      <td>Doritos Corn Chips  Original 170g</td>\n      <td>2</td>\n      <td>8.8</td>\n    </tr>\n    <tr>\n      <th>264810</th>\n      <td>2018-09-23</td>\n      <td>271</td>\n      <td>271051</td>\n      <td>268507</td>\n      <td>13</td>\n      <td>Red Rock Deli Thai  Chilli&amp;Lime 150g</td>\n      <td>2</td>\n      <td>5.4</td>\n    </tr>\n    <tr>\n      <th>264811</th>\n      <td>2018-09-25</td>\n      <td>271</td>\n      <td>271051</td>\n      <td>268508</td>\n      <td>80</td>\n      <td>Natural ChipCo Sea  Salt &amp; Vinegr 175g</td>\n      <td>2</td>\n      <td>6.0</td>\n    </tr>\n    <tr>\n      <th>264812</th>\n      <td>2018-12-18</td>\n      <td>271</td>\n      <td>271051</td>\n      <td>268509</td>\n      <td>62</td>\n      <td>Pringles Mystery    Flavour 134g</td>\n      <td>2</td>\n      <td>7.4</td>\n    </tr>\n    <tr>\n      <th>264813</th>\n      <td>2019-01-21</td>\n      <td>271</td>\n      <td>271051</td>\n      <td>268510</td>\n      <td>92</td>\n      <td>WW Crinkle Cut      Chicken 175g</td>\n      <td>2</td>\n      <td>3.4</td>\n    </tr>\n    <tr>\n      <th>264814</th>\n      <td>2018-09-01</td>\n      <td>271</td>\n      <td>271193</td>\n      <td>269364</td>\n      <td>10</td>\n      <td>RRD SR Slow Rst     Pork Belly 150g</td>\n      <td>2</td>\n      <td>5.4</td>\n    </tr>\n    <tr>\n      <th>264815</th>\n      <td>2018-11-06</td>\n      <td>271</td>\n      <td>271193</td>\n      <td>269365</td>\n      <td>33</td>\n      <td>Cobs Popd Swt/Chlli &amp;Sr/Cream Chips 110g</td>\n      <td>2</td>\n      <td>7.6</td>\n    </tr>\n    <tr>\n      <th>264816</th>\n      <td>2019-05-31</td>\n      <td>271</td>\n      <td>271193</td>\n      <td>269366</td>\n      <td>75</td>\n      <td>Cobs Popd Sea Salt  Chips 110g</td>\n      <td>2</td>\n      <td>7.6</td>\n    </tr>\n    <tr>\n      <th>264817</th>\n      <td>2019-06-19</td>\n      <td>271</td>\n      <td>271193</td>\n      <td>269367</td>\n      <td>95</td>\n      <td>Sunbites Whlegrn    Crisps Frch/Onin 90g</td>\n      <td>2</td>\n      <td>3.4</td>\n    </tr>\n    <tr>\n      <th>264818</th>\n      <td>2019-03-10</td>\n      <td>272</td>\n      <td>272010</td>\n      <td>269644</td>\n      <td>49</td>\n      <td>Infuzions SourCream&amp;Herbs Veg Strws 110g</td>\n      <td>2</td>\n      <td>7.6</td>\n    </tr>\n    <tr>\n      <th>264819</th>\n      <td>2019-06-17</td>\n      <td>272</td>\n      <td>272053</td>\n      <td>269703</td>\n      <td>46</td>\n      <td>Kettle Original 175g</td>\n      <td>2</td>\n      <td>10.8</td>\n    </tr>\n    <tr>\n      <th>264820</th>\n      <td>2018-08-30</td>\n      <td>272</td>\n      <td>272105</td>\n      <td>269790</td>\n      <td>62</td>\n      <td>Pringles Mystery    Flavour 134g</td>\n      <td>2</td>\n      <td>7.4</td>\n    </tr>\n    <tr>\n      <th>264821</th>\n      <td>2019-05-31</td>\n      <td>272</td>\n      <td>272105</td>\n      <td>269792</td>\n      <td>32</td>\n      <td>Kettle Sea Salt     And Vinegar 175g</td>\n      <td>2</td>\n      <td>10.8</td>\n    </tr>\n    <tr>\n      <th>264822</th>\n      <td>2018-08-02</td>\n      <td>272</td>\n      <td>272148</td>\n      <td>269843</td>\n      <td>34</td>\n      <td>Pringles Slt Vingar 134g</td>\n      <td>2</td>\n      <td>7.4</td>\n    </tr>\n    <tr>\n      <th>264823</th>\n      <td>2019-03-19</td>\n      <td>272</td>\n      <td>272156</td>\n      <td>269855</td>\n      <td>63</td>\n      <td>Kettle 135g Swt Pot Sea Salt</td>\n      <td>2</td>\n      <td>8.4</td>\n    </tr>\n    <tr>\n      <th>264824</th>\n      <td>2019-03-15</td>\n      <td>272</td>\n      <td>272193</td>\n      <td>269906</td>\n      <td>9</td>\n      <td>Kettle Tortilla ChpsBtroot&amp;Ricotta 150g</td>\n      <td>1</td>\n      <td>4.6</td>\n    </tr>\n    <tr>\n      <th>264825</th>\n      <td>2019-01-23</td>\n      <td>272</td>\n      <td>272194</td>\n      <td>269907</td>\n      <td>87</td>\n      <td>Infuzions BBQ Rib   Prawn Crackers 110g</td>\n      <td>2</td>\n      <td>7.6</td>\n    </tr>\n    <tr>\n      <th>264826</th>\n      <td>2019-03-27</td>\n      <td>272</td>\n      <td>272194</td>\n      <td>269908</td>\n      <td>75</td>\n      <td>Cobs Popd Sea Salt  Chips 110g</td>\n      <td>2</td>\n      <td>7.6</td>\n    </tr>\n    <tr>\n      <th>264827</th>\n      <td>2018-08-30</td>\n      <td>272</td>\n      <td>272197</td>\n      <td>269911</td>\n      <td>104</td>\n      <td>Infuzions Thai SweetChili PotatoMix 110g</td>\n      <td>2</td>\n      <td>7.6</td>\n    </tr>\n    <tr>\n      <th>264828</th>\n      <td>2018-07-29</td>\n      <td>272</td>\n      <td>272236</td>\n      <td>269974</td>\n      <td>68</td>\n      <td>Pringles Chicken    Salt Crips 134g</td>\n      <td>2</td>\n      <td>7.4</td>\n    </tr>\n    <tr>\n      <th>264829</th>\n      <td>2019-03-18</td>\n      <td>272</td>\n      <td>272236</td>\n      <td>269976</td>\n      <td>49</td>\n      <td>Infuzions SourCream&amp;Herbs Veg Strws 110g</td>\n      <td>2</td>\n      <td>7.6</td>\n    </tr>\n    <tr>\n      <th>264830</th>\n      <td>2018-11-14</td>\n      <td>272</td>\n      <td>272319</td>\n      <td>270087</td>\n      <td>44</td>\n      <td>Thins Chips Light&amp;  Tangy 175g</td>\n      <td>2</td>\n      <td>6.6</td>\n    </tr>\n    <tr>\n      <th>264831</th>\n      <td>2019-03-11</td>\n      <td>272</td>\n      <td>272319</td>\n      <td>270088</td>\n      <td>89</td>\n      <td>Kettle Sweet Chilli And Sour Cream 175g</td>\n      <td>2</td>\n      <td>10.8</td>\n    </tr>\n    <tr>\n      <th>264832</th>\n      <td>2018-08-15</td>\n      <td>272</td>\n      <td>272358</td>\n      <td>270154</td>\n      <td>74</td>\n      <td>Tostitos Splash Of  Lime 175g</td>\n      <td>1</td>\n      <td>4.4</td>\n    </tr>\n    <tr>\n      <th>264833</th>\n      <td>2018-11-08</td>\n      <td>272</td>\n      <td>272379</td>\n      <td>270187</td>\n      <td>51</td>\n      <td>Doritos Mexicana    170g</td>\n      <td>2</td>\n      <td>8.8</td>\n    </tr>\n    <tr>\n      <th>264834</th>\n      <td>2018-12-29</td>\n      <td>272</td>\n      <td>272379</td>\n      <td>270188</td>\n      <td>42</td>\n      <td>Doritos Corn Chip Mexican Jalapeno 150g</td>\n      <td>2</td>\n      <td>7.8</td>\n    </tr>\n    <tr>\n      <th>264835</th>\n      <td>2018-09-24</td>\n      <td>272</td>\n      <td>272380</td>\n      <td>270189</td>\n      <td>74</td>\n      <td>Tostitos Splash Of  Lime 175g</td>\n      <td>2</td>\n      <td>8.8</td>\n    </tr>\n  </tbody>\n</table>\n<p>264836 rows × 8 columns</p>\n</div>"
     },
     "metadata": {},
     "execution_count": 16
    }
   ],
   "source": []
  },
  {
   "cell_type": "code",
   "execution_count": 6,
   "metadata": {},
   "outputs": [],
   "source": [
    "import scipy.stats as st\n",
    "import numpy as np"
   ]
  },
  {
   "cell_type": "code",
   "execution_count": 16,
   "metadata": {},
   "outputs": [
    {
     "output_type": "execute_result",
     "data": {
      "text/plain": [
       "2.575829303548901"
      ]
     },
     "metadata": {},
     "execution_count": 16
    }
   ],
   "source": [
    "st.norm.isf(0.005)"
   ]
  },
  {
   "cell_type": "code",
   "execution_count": 10,
   "metadata": {},
   "outputs": [
    {
     "output_type": "execute_result",
     "data": {
      "text/plain": [
       "1.5811388300841898"
      ]
     },
     "metadata": {},
     "execution_count": 10
    }
   ],
   "source": [
    "np.sqrt(10)/2"
   ]
  },
  {
   "cell_type": "code",
   "execution_count": 13,
   "metadata": {},
   "outputs": [
    {
     "output_type": "execute_result",
     "data": {
      "text/plain": [
       "501.93999999999994"
      ]
     },
     "metadata": {},
     "execution_count": 13
    }
   ],
   "source": [
    "(502.9+499.8+503.2+502.8+500.9+503.9+498.2+502.5+503.8+501.4)/10"
   ]
  },
  {
   "cell_type": "code",
   "execution_count": 15,
   "metadata": {},
   "outputs": [
    {
     "output_type": "execute_result",
     "data": {
      "text/plain": [
       "3.1622776601683795"
      ]
     },
     "metadata": {},
     "execution_count": 15
    }
   ],
   "source": [
    "np.sqrt(10)"
   ]
  },
  {
   "cell_type": "code",
   "execution_count": null,
   "metadata": {},
   "outputs": [],
   "source": []
  }
 ],
 "metadata": {
  "kernelspec": {
   "display_name": "Python 3",
   "language": "python",
   "name": "python3"
  },
  "language_info": {
   "codemirror_mode": {
    "name": "ipython",
    "version": 3
   },
   "file_extension": ".py",
   "mimetype": "text/x-python",
   "name": "python",
   "nbconvert_exporter": "python",
   "pygments_lexer": "ipython3",
   "version": "3.7.3-final"
  }
 },
 "nbformat": 4,
 "nbformat_minor": 2
}